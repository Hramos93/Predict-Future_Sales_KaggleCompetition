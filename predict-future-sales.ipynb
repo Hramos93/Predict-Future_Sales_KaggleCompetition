{
 "cells": [
  {
   "cell_type": "markdown",
   "metadata": {},
   "source": [
    "# Overview\n",
    "\n",
    "The task is to forecast the total amount of products sold in every shop for the test set. Note that the list of shops and products slightly changes every month. Creating a robust model that can handle such situations is part of the challenge.\n",
    "\n",
    "<h2>Files available :</h2>\n",
    "\n",
    "<ul>\n",
    "<li>sales_train.csv - the training set. Daily historical data from January 2013 to October 2015.</li>\n",
    "<li>test.csv - the test set. You need to forecast the sales for these shops and products for November 2015. </li>\n",
    "<li>sample_submission.csv - a sample submission file in the correct format. items.csv - supplemental information about the items/products. </li>\n",
    "<li>item_categories.csv - supplemental information about the items categories. </li>\n",
    "<li>shops.csv- supplemental information about the shops.</li>\n",
    " <ul>"
   ]
  },
  {
   "cell_type": "code",
   "execution_count": null,
   "metadata": {
    "execution": {
     "iopub.execute_input": "2021-06-20T14:26:24.568615Z",
     "iopub.status.busy": "2021-06-20T14:26:24.568249Z",
     "iopub.status.idle": "2021-06-20T14:26:24.574845Z",
     "shell.execute_reply": "2021-06-20T14:26:24.573826Z",
     "shell.execute_reply.started": "2021-06-20T14:26:24.56858Z"
    }
   },
   "outputs": [],
   "source": [
    "import pandas as pd\n",
    "import numpy as np\n",
    "import matplotlib.pyplot as plt\n",
    "import matplotlib.gridspec as gridspec\n",
    "import seaborn as sns\n",
    "import warnings\n",
    "\n",
    "warnings.filterwarnings(\"ignore\")\n",
    "pd.options.display.float_format = '{:20,.2f}'.format\n",
    "plt.style.use('ggplot')\n",
    "plt.rcParams['figure.dpi'] = 200"
   ]
  },
  {
   "cell_type": "code",
   "execution_count": null,
   "metadata": {
    "execution": {
     "iopub.execute_input": "2021-06-20T14:26:24.764731Z",
     "iopub.status.busy": "2021-06-20T14:26:24.764359Z",
     "iopub.status.idle": "2021-06-20T14:26:24.770826Z",
     "shell.execute_reply": "2021-06-20T14:26:24.769378Z",
     "shell.execute_reply.started": "2021-06-20T14:26:24.764697Z"
    }
   },
   "outputs": [],
   "source": [
    "from sklearn.model_selection import train_test_split\n",
    "\n",
    "from sklearn.linear_model import LinearRegression, Ridge\n",
    "from sklearn.ensemble import RandomForestRegressor\n",
    "from sklearn.neighbors import KNeighborsRegressor\n",
    "from sklearn.ensemble import GradientBoostingRegressor\n",
    "\n",
    "\n",
    "\n",
    "from sklearn.metrics import mean_squared_error"
   ]
  },
  {
   "cell_type": "code",
   "execution_count": null,
   "metadata": {
    "execution": {
     "iopub.execute_input": "2021-06-20T14:47:55.127772Z",
     "iopub.status.busy": "2021-06-20T14:47:55.127405Z",
     "iopub.status.idle": "2021-06-20T14:47:55.132701Z",
     "shell.execute_reply": "2021-06-20T14:47:55.13154Z",
     "shell.execute_reply.started": "2021-06-20T14:47:55.127743Z"
    }
   },
   "outputs": [],
   "source": [
    "import pickle"
   ]
  },
  {
   "cell_type": "code",
   "execution_count": null,
   "metadata": {
    "execution": {
     "iopub.execute_input": "2021-06-20T14:26:24.985306Z",
     "iopub.status.busy": "2021-06-20T14:26:24.984944Z",
     "iopub.status.idle": "2021-06-20T14:26:25.326587Z",
     "shell.execute_reply": "2021-06-20T14:26:25.325568Z",
     "shell.execute_reply.started": "2021-06-20T14:26:24.985277Z"
    }
   },
   "outputs": [],
   "source": [
    "import xgboost as xgb"
   ]
  },
  {
   "cell_type": "markdown",
   "metadata": {},
   "source": [
    "# Understand the problem"
   ]
  },
  {
   "cell_type": "code",
   "execution_count": null,
   "metadata": {
    "execution": {
     "iopub.execute_input": "2021-06-20T14:57:19.431618Z",
     "iopub.status.busy": "2021-06-20T14:57:19.431272Z",
     "iopub.status.idle": "2021-06-20T14:57:21.125066Z",
     "shell.execute_reply": "2021-06-20T14:57:21.124075Z",
     "shell.execute_reply.started": "2021-06-20T14:57:19.431589Z"
    }
   },
   "outputs": [],
   "source": [
    "train = pd.read_csv(\"../input/competitive-data-science-predict-future-sales/sales_train.csv\")\n",
    "test = pd.read_csv(\"../input/competitive-data-science-predict-future-sales/test.csv\")\n",
    "\n",
    "\n",
    "items = pd.read_csv(\"../input/predict-future-sales-translated-dataset/items_en.csv\")\n",
    "shops = pd.read_csv(\"../input/predict-future-sales-translated-dataset/shops_en.csv\")\n",
    "categories = pd.read_csv(\"../input/predict-future-sales-translated-dataset/item_categories_en.csv\")\n",
    "\n",
    "submission = pd.read_csv(\"../input/competitive-data-science-predict-future-sales/sample_submission.csv\")"
   ]
  },
  {
   "cell_type": "code",
   "execution_count": null,
   "metadata": {
    "execution": {
     "iopub.execute_input": "2021-06-20T14:26:29.560259Z",
     "iopub.status.busy": "2021-06-20T14:26:29.559649Z",
     "iopub.status.idle": "2021-06-20T14:26:29.59178Z",
     "shell.execute_reply": "2021-06-20T14:26:29.590702Z",
     "shell.execute_reply.started": "2021-06-20T14:26:29.560213Z"
    }
   },
   "outputs": [],
   "source": [
    "train.head()"
   ]
  },
  {
   "cell_type": "code",
   "execution_count": null,
   "metadata": {
    "execution": {
     "iopub.execute_input": "2021-06-20T14:26:29.593775Z",
     "iopub.status.busy": "2021-06-20T14:26:29.593189Z",
     "iopub.status.idle": "2021-06-20T14:26:29.600392Z",
     "shell.execute_reply": "2021-06-20T14:26:29.599387Z",
     "shell.execute_reply.started": "2021-06-20T14:26:29.59373Z"
    }
   },
   "outputs": [],
   "source": [
    "print(' train set  :{} \\n test set : {}'.format(list(train.columns), list(test.columns)))"
   ]
  },
  {
   "cell_type": "code",
   "execution_count": null,
   "metadata": {
    "execution": {
     "iopub.execute_input": "2021-06-20T14:26:29.602165Z",
     "iopub.status.busy": "2021-06-20T14:26:29.60184Z",
     "iopub.status.idle": "2021-06-20T14:26:29.906566Z",
     "shell.execute_reply": "2021-06-20T14:26:29.905664Z",
     "shell.execute_reply.started": "2021-06-20T14:26:29.602137Z"
    }
   },
   "outputs": [],
   "source": [
    "print(' shape train {} \\n shape test {} \\n total data {}'.format(train.shape, test.shape, train.shape[0]+test.shape[0]))\n",
    "print(\" train dataset have null: {} \\n test dataset have null: {} \".format(train.isnull().sum().any(), test.isnull().sum().any()))\n"
   ]
  },
  {
   "cell_type": "markdown",
   "metadata": {},
   "source": [
    "#### Review of same items in train and test set\n",
    "\n",
    "Here we will can see that the values in the item shop and the shop id not are same, therefore later we going to remove the items that not make match between dataset, it is because is not necesary."
   ]
  },
  {
   "cell_type": "code",
   "execution_count": null,
   "metadata": {
    "execution": {
     "iopub.execute_input": "2021-06-20T14:26:31.77723Z",
     "iopub.status.busy": "2021-06-20T14:26:31.776663Z",
     "iopub.status.idle": "2021-06-20T14:26:31.807685Z",
     "shell.execute_reply": "2021-06-20T14:26:31.806486Z",
     "shell.execute_reply.started": "2021-06-20T14:26:31.777172Z"
    }
   },
   "outputs": [],
   "source": [
    "#review shop_id in train set and test set\n",
    "print(' unique values of shop_id in train set: \\n {} \\n\\n unique values of shop_id in test set: \\n {}'.format(len(train.shop_id.unique()),len(test.shop_id.unique())))"
   ]
  },
  {
   "cell_type": "markdown",
   "metadata": {},
   "source": [
    "#### How are the frequencies in the dates"
   ]
  },
  {
   "cell_type": "code",
   "execution_count": null,
   "metadata": {
    "execution": {
     "iopub.execute_input": "2021-06-20T14:26:32.303889Z",
     "iopub.status.busy": "2021-06-20T14:26:32.303544Z",
     "iopub.status.idle": "2021-06-20T14:26:32.371737Z",
     "shell.execute_reply": "2021-06-20T14:26:32.370759Z",
     "shell.execute_reply.started": "2021-06-20T14:26:32.303861Z"
    }
   },
   "outputs": [],
   "source": [
    "# how are items most freqs \n",
    "datesfreq = train.groupby('date_block_num')['shop_id'].count().sort_values(ascending=False).head()"
   ]
  },
  {
   "cell_type": "code",
   "execution_count": null,
   "metadata": {
    "execution": {
     "iopub.execute_input": "2021-06-20T14:26:34.531634Z",
     "iopub.status.busy": "2021-06-20T14:26:34.531042Z",
     "iopub.status.idle": "2021-06-20T14:26:34.656652Z",
     "shell.execute_reply": "2021-06-20T14:26:34.655702Z",
     "shell.execute_reply.started": "2021-06-20T14:26:34.531585Z"
    }
   },
   "outputs": [],
   "source": [
    "dates = train[train.date_block_num.isin(list(datesfreq.index))]\n",
    "dates = dates.groupby('date')['shop_id'].count().sort_values(ascending=True).reset_index()\n",
    "dates = dates.set_index('date')\n",
    "dates.index = pd.to_datetime(dates.index)\n",
    "dates.columns = ['freq']"
   ]
  },
  {
   "cell_type": "code",
   "execution_count": null,
   "metadata": {
    "execution": {
     "iopub.execute_input": "2021-06-20T14:26:34.775362Z",
     "iopub.status.busy": "2021-06-20T14:26:34.774962Z",
     "iopub.status.idle": "2021-06-20T14:26:34.782921Z",
     "shell.execute_reply": "2021-06-20T14:26:34.781455Z",
     "shell.execute_reply.started": "2021-06-20T14:26:34.775331Z"
    }
   },
   "outputs": [],
   "source": [
    "print('months: {} \\n\\n days: {}'.format(sorted(list(dates.index.month.unique())) ,sorted(list(dates.index.day.unique()))))"
   ]
  },
  {
   "cell_type": "markdown",
   "metadata": {},
   "source": [
    "In the following figure it is possible to see that the peak value was in December, it's is logical because is an age when there is a lot of movements transaction for christmas, even the percentil 0.95 is alocated between November and January. "
   ]
  },
  {
   "cell_type": "code",
   "execution_count": null,
   "metadata": {
    "execution": {
     "iopub.execute_input": "2021-06-20T14:26:37.621826Z",
     "iopub.status.busy": "2021-06-20T14:26:37.621471Z",
     "iopub.status.idle": "2021-06-20T14:26:38.053533Z",
     "shell.execute_reply": "2021-06-20T14:26:38.050263Z",
     "shell.execute_reply.started": "2021-06-20T14:26:37.621797Z"
    }
   },
   "outputs": [],
   "source": [
    "maxvalue = dates.sort_values(by='freq',ascending=False)[:1]\n",
    "ax = dates.plot(color='orange')\n",
    "ax.set_xlabel('Date')\n",
    "ax.set_ylabel('Freq')\n",
    "ax.axvline(maxvalue.index, color='green', linestyle='--', alpha=0.3)\n",
    "ax.axhline(maxvalue.values, color='blue', linestyle='--', alpha=0.3)\n",
    "ax.axhline(dates.quantile(0.95).values, color='purple', linestyle='--', alpha=0.3)\n",
    "ax.text(maxvalue.index,maxvalue.values, '  maxvalue : {} : {}'.format(str(maxvalue.index.date[0]),str(maxvalue.values[0][0])), fontsize=6)\n",
    "ax.text(maxvalue.index,dates.quantile(0.95).values, ' percentile 0.95', fontsize=6)\n",
    "plt.show()"
   ]
  },
  {
   "cell_type": "code",
   "execution_count": null,
   "metadata": {
    "execution": {
     "iopub.execute_input": "2021-06-20T14:26:50.420752Z",
     "iopub.status.busy": "2021-06-20T14:26:50.420365Z",
     "iopub.status.idle": "2021-06-20T14:26:50.453878Z",
     "shell.execute_reply": "2021-06-20T14:26:50.452833Z",
     "shell.execute_reply.started": "2021-06-20T14:26:50.420718Z"
    }
   },
   "outputs": [],
   "source": [
    "print('How many item_id are? : {}'.format(len(train.item_id.unique())))"
   ]
  },
  {
   "cell_type": "code",
   "execution_count": null,
   "metadata": {
    "execution": {
     "iopub.execute_input": "2021-06-20T14:26:50.724928Z",
     "iopub.status.busy": "2021-06-20T14:26:50.724584Z",
     "iopub.status.idle": "2021-06-20T14:26:51.809461Z",
     "shell.execute_reply": "2021-06-20T14:26:51.808526Z",
     "shell.execute_reply.started": "2021-06-20T14:26:50.7249Z"
    }
   },
   "outputs": [],
   "source": [
    "train['shop_id'].value_counts(normalize=True).plot(kind='bar', alpha=0.7, figsize=(12,3))\n",
    "plt.title(\"Shop Id Values\")"
   ]
  },
  {
   "cell_type": "code",
   "execution_count": null,
   "metadata": {
    "execution": {
     "iopub.execute_input": "2021-06-20T14:26:54.250795Z",
     "iopub.status.busy": "2021-06-20T14:26:54.250409Z",
     "iopub.status.idle": "2021-06-20T14:26:54.823551Z",
     "shell.execute_reply": "2021-06-20T14:26:54.822506Z",
     "shell.execute_reply.started": "2021-06-20T14:26:54.250762Z"
    }
   },
   "outputs": [],
   "source": [
    "train['item_price'].plot(kind='hist', alpha=0.7, color='orange', figsize=(12,3))\n",
    "plt.title(\"Item price Histogram\")"
   ]
  },
  {
   "cell_type": "code",
   "execution_count": null,
   "metadata": {
    "execution": {
     "iopub.execute_input": "2021-06-20T14:26:54.826406Z",
     "iopub.status.busy": "2021-06-20T14:26:54.825943Z",
     "iopub.status.idle": "2021-06-20T14:26:55.311257Z",
     "shell.execute_reply": "2021-06-20T14:26:55.310009Z",
     "shell.execute_reply.started": "2021-06-20T14:26:54.826361Z"
    }
   },
   "outputs": [],
   "source": [
    "train['item_cnt_day'].plot(kind='hist', alpha=0.7, color='green', figsize=(12,3))\n",
    "plt.title('Item count by day Histogram')"
   ]
  },
  {
   "cell_type": "code",
   "execution_count": null,
   "metadata": {
    "execution": {
     "iopub.execute_input": "2021-06-20T14:26:58.39319Z",
     "iopub.status.busy": "2021-06-20T14:26:58.392814Z",
     "iopub.status.idle": "2021-06-20T14:26:58.594259Z",
     "shell.execute_reply": "2021-06-20T14:26:58.593102Z",
     "shell.execute_reply.started": "2021-06-20T14:26:58.393158Z"
    }
   },
   "outputs": [],
   "source": [
    "train['item_cnt_day'].sort_values(ascending=False)[:5]"
   ]
  },
  {
   "cell_type": "code",
   "execution_count": null,
   "metadata": {
    "execution": {
     "iopub.execute_input": "2021-06-20T14:27:04.866964Z",
     "iopub.status.busy": "2021-06-20T14:27:04.866611Z",
     "iopub.status.idle": "2021-06-20T14:27:04.886486Z",
     "shell.execute_reply": "2021-06-20T14:27:04.885548Z",
     "shell.execute_reply.started": "2021-06-20T14:27:04.866934Z"
    }
   },
   "outputs": [],
   "source": [
    "train[train['item_cnt_day'] == 2169]"
   ]
  },
  {
   "cell_type": "markdown",
   "metadata": {},
   "source": [
    "Item 11373 was sold 2169 times at shop 12 on a single day in Octuber."
   ]
  },
  {
   "cell_type": "code",
   "execution_count": null,
   "metadata": {
    "execution": {
     "iopub.execute_input": "2021-06-20T14:28:17.866309Z",
     "iopub.status.busy": "2021-06-20T14:28:17.865862Z",
     "iopub.status.idle": "2021-06-20T14:28:17.879541Z",
     "shell.execute_reply": "2021-06-20T14:28:17.878273Z",
     "shell.execute_reply.started": "2021-06-20T14:28:17.866276Z"
    }
   },
   "outputs": [],
   "source": [
    "items[items['item_id'] == 11373]"
   ]
  },
  {
   "cell_type": "code",
   "execution_count": null,
   "metadata": {
    "execution": {
     "iopub.execute_input": "2021-06-20T14:28:27.20829Z",
     "iopub.status.busy": "2021-06-20T14:28:27.207857Z",
     "iopub.status.idle": "2021-06-20T14:28:27.224798Z",
     "shell.execute_reply": "2021-06-20T14:28:27.223828Z",
     "shell.execute_reply.started": "2021-06-20T14:28:27.208254Z"
    }
   },
   "outputs": [],
   "source": [
    "train[train['item_id'] == 11373].head(5)"
   ]
  },
  {
   "cell_type": "code",
   "execution_count": null,
   "metadata": {
    "execution": {
     "iopub.execute_input": "2021-06-20T14:28:39.18428Z",
     "iopub.status.busy": "2021-06-20T14:28:39.183746Z",
     "iopub.status.idle": "2021-06-20T14:28:39.198229Z",
     "shell.execute_reply": "2021-06-20T14:28:39.196928Z",
     "shell.execute_reply.started": "2021-06-20T14:28:39.18423Z"
    }
   },
   "outputs": [],
   "source": [
    "train[train['item_id']== 11373]['item_cnt_day'].median()"
   ]
  },
  {
   "cell_type": "code",
   "execution_count": null,
   "metadata": {
    "execution": {
     "iopub.execute_input": "2021-06-20T14:28:56.127823Z",
     "iopub.status.busy": "2021-06-20T14:28:56.127229Z",
     "iopub.status.idle": "2021-06-20T14:28:56.355709Z",
     "shell.execute_reply": "2021-06-20T14:28:56.354605Z",
     "shell.execute_reply.started": "2021-06-20T14:28:56.127787Z"
    }
   },
   "outputs": [],
   "source": [
    "train[train['item_id']== 11373]['item_cnt_day'].plot(kind='hist',figsize=(12,3))\n",
    "plt.text(1000,300,'median item_cnt_day: {}'.format(train[train['item_id']== 11373]['item_cnt_day'].median()))"
   ]
  },
  {
   "cell_type": "markdown",
   "metadata": {},
   "source": [
    "Now  it is possible to see that value 2169 in column item_cnt_day is a value anomaly, so we going to impute this value"
   ]
  },
  {
   "cell_type": "code",
   "execution_count": null,
   "metadata": {
    "execution": {
     "iopub.execute_input": "2021-06-19T20:06:34.307658Z",
     "iopub.status.busy": "2021-06-19T20:06:34.306991Z",
     "iopub.status.idle": "2021-06-19T20:06:34.465999Z",
     "shell.execute_reply": "2021-06-19T20:06:34.464754Z",
     "shell.execute_reply.started": "2021-06-19T20:06:34.307598Z"
    }
   },
   "outputs": [],
   "source": [
    "train = train[train['item_cnt_day'] < 2000]\n",
    "train['item_price'].sort_values(ascending=False)[:5]"
   ]
  },
  {
   "cell_type": "markdown",
   "metadata": {},
   "source": [
    "##### Price 307.980"
   ]
  },
  {
   "cell_type": "code",
   "execution_count": null,
   "metadata": {
    "execution": {
     "iopub.execute_input": "2021-06-20T14:31:05.382795Z",
     "iopub.status.busy": "2021-06-20T14:31:05.38186Z",
     "iopub.status.idle": "2021-06-20T14:31:05.402039Z",
     "shell.execute_reply": "2021-06-20T14:31:05.400919Z",
     "shell.execute_reply.started": "2021-06-20T14:31:05.382746Z"
    }
   },
   "outputs": [],
   "source": [
    "train[train['item_price'] == 307980]"
   ]
  },
  {
   "cell_type": "code",
   "execution_count": null,
   "metadata": {
    "execution": {
     "iopub.execute_input": "2021-06-20T14:31:30.653357Z",
     "iopub.status.busy": "2021-06-20T14:31:30.652974Z",
     "iopub.status.idle": "2021-06-20T14:31:30.664919Z",
     "shell.execute_reply": "2021-06-20T14:31:30.663738Z",
     "shell.execute_reply.started": "2021-06-20T14:31:30.653327Z"
    }
   },
   "outputs": [],
   "source": [
    "items[items['item_id'] == 6066]"
   ]
  },
  {
   "cell_type": "code",
   "execution_count": null,
   "metadata": {
    "execution": {
     "iopub.execute_input": "2021-06-20T14:31:30.956847Z",
     "iopub.status.busy": "2021-06-20T14:31:30.956339Z",
     "iopub.status.idle": "2021-06-20T14:31:30.974202Z",
     "shell.execute_reply": "2021-06-20T14:31:30.97277Z",
     "shell.execute_reply.started": "2021-06-20T14:31:30.956816Z"
    }
   },
   "outputs": [],
   "source": [
    "train[train['item_id']== 6066]"
   ]
  },
  {
   "cell_type": "markdown",
   "metadata": {},
   "source": [
    "Radmin 3 to 522 people, it mean thata all price is by 522 people.\n",
    "It is only item, there is not point benchmark to understand the value, so it will be drop from training set. "
   ]
  },
  {
   "cell_type": "code",
   "execution_count": null,
   "metadata": {
    "execution": {
     "iopub.execute_input": "2021-06-20T14:31:55.982812Z",
     "iopub.status.busy": "2021-06-20T14:31:55.982325Z",
     "iopub.status.idle": "2021-06-20T14:31:56.121358Z",
     "shell.execute_reply": "2021-06-20T14:31:56.120421Z",
     "shell.execute_reply.started": "2021-06-20T14:31:55.98278Z"
    }
   },
   "outputs": [],
   "source": [
    "train = train[train['item_price'] < 300000]"
   ]
  },
  {
   "cell_type": "markdown",
   "metadata": {},
   "source": [
    "##### Price -1 "
   ]
  },
  {
   "cell_type": "code",
   "execution_count": null,
   "metadata": {
    "execution": {
     "iopub.execute_input": "2021-06-20T14:32:49.086896Z",
     "iopub.status.busy": "2021-06-20T14:32:49.086184Z",
     "iopub.status.idle": "2021-06-20T14:32:49.478016Z",
     "shell.execute_reply": "2021-06-20T14:32:49.47712Z",
     "shell.execute_reply.started": "2021-06-20T14:32:49.086858Z"
    }
   },
   "outputs": [],
   "source": [
    "train['item_price'].sort_values()[:5]"
   ]
  },
  {
   "cell_type": "code",
   "execution_count": null,
   "metadata": {
    "execution": {
     "iopub.execute_input": "2021-06-20T14:32:50.406434Z",
     "iopub.status.busy": "2021-06-20T14:32:50.406083Z",
     "iopub.status.idle": "2021-06-20T14:32:50.422219Z",
     "shell.execute_reply": "2021-06-20T14:32:50.421256Z",
     "shell.execute_reply.started": "2021-06-20T14:32:50.406406Z"
    }
   },
   "outputs": [],
   "source": [
    "train[train['item_price'] == -1]"
   ]
  },
  {
   "cell_type": "code",
   "execution_count": null,
   "metadata": {
    "execution": {
     "iopub.execute_input": "2021-06-20T14:32:52.005505Z",
     "iopub.status.busy": "2021-06-20T14:32:52.00515Z",
     "iopub.status.idle": "2021-06-20T14:32:52.017695Z",
     "shell.execute_reply": "2021-06-20T14:32:52.016628Z",
     "shell.execute_reply.started": "2021-06-20T14:32:52.005477Z"
    }
   },
   "outputs": [],
   "source": [
    "items[items['item_id'] == 2973]"
   ]
  },
  {
   "cell_type": "code",
   "execution_count": null,
   "metadata": {
    "execution": {
     "iopub.execute_input": "2021-06-20T14:32:58.332022Z",
     "iopub.status.busy": "2021-06-20T14:32:58.331472Z",
     "iopub.status.idle": "2021-06-20T14:32:58.348447Z",
     "shell.execute_reply": "2021-06-20T14:32:58.347544Z",
     "shell.execute_reply.started": "2021-06-20T14:32:58.331984Z"
    }
   },
   "outputs": [],
   "source": [
    "train[train['item_id'] == 2973].head(5)"
   ]
  },
  {
   "cell_type": "markdown",
   "metadata": {},
   "source": [
    "##### Stores\n",
    "We going to how much store there are and if they are duplicated"
   ]
  },
  {
   "cell_type": "code",
   "execution_count": null,
   "metadata": {
    "execution": {
     "iopub.execute_input": "2021-06-20T14:33:11.763488Z",
     "iopub.status.busy": "2021-06-20T14:33:11.762771Z",
     "iopub.status.idle": "2021-06-20T14:33:11.789271Z",
     "shell.execute_reply": "2021-06-20T14:33:11.788046Z",
     "shell.execute_reply.started": "2021-06-20T14:33:11.763437Z"
    }
   },
   "outputs": [],
   "source": [
    "len(train['shop_id'].unique())"
   ]
  },
  {
   "cell_type": "code",
   "execution_count": null,
   "metadata": {
    "execution": {
     "iopub.execute_input": "2021-06-20T14:33:12.81841Z",
     "iopub.status.busy": "2021-06-20T14:33:12.818043Z",
     "iopub.status.idle": "2021-06-20T14:33:12.825548Z",
     "shell.execute_reply": "2021-06-20T14:33:12.824644Z",
     "shell.execute_reply.started": "2021-06-20T14:33:12.818382Z"
    }
   },
   "outputs": [],
   "source": [
    "len(test['shop_id'].unique())"
   ]
  },
  {
   "cell_type": "code",
   "execution_count": null,
   "metadata": {
    "execution": {
     "iopub.execute_input": "2021-06-20T14:33:17.307339Z",
     "iopub.status.busy": "2021-06-20T14:33:17.306932Z",
     "iopub.status.idle": "2021-06-20T14:33:17.454607Z",
     "shell.execute_reply": "2021-06-20T14:33:17.45334Z",
     "shell.execute_reply.started": "2021-06-20T14:33:17.307299Z"
    }
   },
   "outputs": [],
   "source": [
    "shops.T"
   ]
  },
  {
   "cell_type": "markdown",
   "metadata": {},
   "source": [
    "Effectively store are duplicated, so we going to replace id with a id most representative"
   ]
  },
  {
   "cell_type": "code",
   "execution_count": null,
   "metadata": {
    "execution": {
     "iopub.execute_input": "2021-06-20T14:35:09.466377Z",
     "iopub.status.busy": "2021-06-20T14:35:09.46595Z",
     "iopub.status.idle": "2021-06-20T14:35:09.535654Z",
     "shell.execute_reply": "2021-06-20T14:35:09.534653Z",
     "shell.execute_reply.started": "2021-06-20T14:35:09.466344Z"
    }
   },
   "outputs": [],
   "source": [
    "train.loc[train['shop_id'] == 0, 'shop_id'] = 57\n",
    "test.loc[test['shop_id'] == 0, 'shop_id'] = 57\n",
    "\n",
    "train.loc[train['shop_id'] == 1, 'shop_id'] = 58\n",
    "test.loc[test['shop_id'] == 1, 'shop_id'] = 58\n",
    "\n",
    "train.loc[train['shop_id'] == 10, 'shop_id'] = 11\n",
    "test.loc[test['shop_id'] == 10, 'shop_id'] = 11"
   ]
  },
  {
   "cell_type": "markdown",
   "metadata": {},
   "source": [
    "Also there are store that have as name, the name city, so it could be complicated for separed the same store, so we going to remove name city from store."
   ]
  },
  {
   "cell_type": "code",
   "execution_count": null,
   "metadata": {
    "execution": {
     "iopub.execute_input": "2021-06-20T14:36:30.433957Z",
     "iopub.status.busy": "2021-06-20T14:36:30.433563Z",
     "iopub.status.idle": "2021-06-20T14:36:30.441821Z",
     "shell.execute_reply": "2021-06-20T14:36:30.440218Z",
     "shell.execute_reply.started": "2021-06-20T14:36:30.433925Z"
    }
   },
   "outputs": [],
   "source": [
    "shops['city'] = shops['shop_name'].str.split(' ').map(lambda row: row[0])"
   ]
  },
  {
   "cell_type": "code",
   "execution_count": null,
   "metadata": {
    "execution": {
     "iopub.execute_input": "2021-06-20T14:36:31.213244Z",
     "iopub.status.busy": "2021-06-20T14:36:31.212851Z",
     "iopub.status.idle": "2021-06-20T14:36:31.225384Z",
     "shell.execute_reply": "2021-06-20T14:36:31.224525Z",
     "shell.execute_reply.started": "2021-06-20T14:36:31.213208Z"
    }
   },
   "outputs": [],
   "source": [
    "shops[shops['city'] == '!']"
   ]
  },
  {
   "cell_type": "code",
   "execution_count": null,
   "metadata": {
    "execution": {
     "iopub.execute_input": "2021-06-20T14:36:33.984825Z",
     "iopub.status.busy": "2021-06-20T14:36:33.98442Z",
     "iopub.status.idle": "2021-06-20T14:36:33.989946Z",
     "shell.execute_reply": "2021-06-20T14:36:33.98912Z",
     "shell.execute_reply.started": "2021-06-20T14:36:33.984792Z"
    }
   },
   "outputs": [],
   "source": [
    "shops['city'] = shops['city'].str.replace('!','Yakutsk')"
   ]
  },
  {
   "cell_type": "code",
   "execution_count": null,
   "metadata": {
    "execution": {
     "iopub.execute_input": "2021-06-20T14:36:36.066456Z",
     "iopub.status.busy": "2021-06-20T14:36:36.06588Z",
     "iopub.status.idle": "2021-06-20T14:36:36.072723Z",
     "shell.execute_reply": "2021-06-20T14:36:36.071883Z",
     "shell.execute_reply.started": "2021-06-20T14:36:36.066421Z"
    }
   },
   "outputs": [],
   "source": [
    "shops['city'].unique()"
   ]
  },
  {
   "cell_type": "code",
   "execution_count": null,
   "metadata": {
    "execution": {
     "iopub.execute_input": "2021-06-20T14:36:41.690406Z",
     "iopub.status.busy": "2021-06-20T14:36:41.689905Z",
     "iopub.status.idle": "2021-06-20T14:36:41.694464Z",
     "shell.execute_reply": "2021-06-20T14:36:41.693505Z",
     "shell.execute_reply.started": "2021-06-20T14:36:41.690373Z"
    }
   },
   "outputs": [],
   "source": [
    "from sklearn import preprocessing"
   ]
  },
  {
   "cell_type": "markdown",
   "metadata": {},
   "source": [
    "##### Encode Name store "
   ]
  },
  {
   "cell_type": "markdown",
   "metadata": {},
   "source": [
    "Now we going to encode name store to make modelling most easier for processing. "
   ]
  },
  {
   "cell_type": "code",
   "execution_count": null,
   "metadata": {
    "execution": {
     "iopub.execute_input": "2021-06-20T14:36:42.248517Z",
     "iopub.status.busy": "2021-06-20T14:36:42.247962Z",
     "iopub.status.idle": "2021-06-20T14:36:42.256573Z",
     "shell.execute_reply": "2021-06-20T14:36:42.255384Z",
     "shell.execute_reply.started": "2021-06-20T14:36:42.248479Z"
    }
   },
   "outputs": [],
   "source": [
    "le = preprocessing.LabelEncoder()\n",
    "le.fit_transform(shops['city'])"
   ]
  },
  {
   "cell_type": "code",
   "execution_count": null,
   "metadata": {
    "execution": {
     "iopub.execute_input": "2021-06-20T14:37:42.580385Z",
     "iopub.status.busy": "2021-06-20T14:37:42.580026Z",
     "iopub.status.idle": "2021-06-20T14:37:42.706847Z",
     "shell.execute_reply": "2021-06-20T14:37:42.705516Z",
     "shell.execute_reply.started": "2021-06-20T14:37:42.580355Z"
    }
   },
   "outputs": [],
   "source": [
    "shops['city_label'] = le.fit_transform(shops['city'])\n",
    "shops.drop(['shop_name', 'city'], axis=1, inplace=True)\n",
    "shops.head()"
   ]
  },
  {
   "cell_type": "markdown",
   "metadata": {},
   "source": [
    "### Items_Analysis"
   ]
  },
  {
   "cell_type": "code",
   "execution_count": null,
   "metadata": {
    "execution": {
     "iopub.execute_input": "2021-06-20T14:39:24.594898Z",
     "iopub.status.busy": "2021-06-20T14:39:24.594543Z",
     "iopub.status.idle": "2021-06-20T14:39:24.640752Z",
     "shell.execute_reply": "2021-06-20T14:39:24.639912Z",
     "shell.execute_reply.started": "2021-06-20T14:39:24.59487Z"
    }
   },
   "outputs": [],
   "source": [
    "items_train = train['item_id'].nunique()\n",
    "items_test = test['item_id'].nunique()\n",
    "print('items_train {} \\n item_test {}'.format(items_train, items_test))"
   ]
  },
  {
   "cell_type": "code",
   "execution_count": null,
   "metadata": {
    "execution": {
     "iopub.execute_input": "2021-06-20T14:39:26.67679Z",
     "iopub.status.busy": "2021-06-20T14:39:26.676404Z",
     "iopub.status.idle": "2021-06-20T14:39:26.709734Z",
     "shell.execute_reply": "2021-06-20T14:39:26.708653Z",
     "shell.execute_reply.started": "2021-06-20T14:39:26.676759Z"
    }
   },
   "outputs": [],
   "source": [
    "items_train_list = list(train['item_id'].unique())\n",
    "items_test_list = list(test['item_id'].unique())\n",
    "\n",
    "flag = 0\n",
    "if(set(items_test_list).issubset(set(items_train_list))):\n",
    "    flag=1\n",
    "if (flag) : \n",
    "    print (\"Yes, list is subset of other.\") \n",
    "else : \n",
    "    print (\"No, list is not subset of other.\") "
   ]
  },
  {
   "cell_type": "markdown",
   "metadata": {},
   "source": [
    "It mean that test df there is value that is not on train set"
   ]
  },
  {
   "cell_type": "code",
   "execution_count": null,
   "metadata": {
    "execution": {
     "iopub.execute_input": "2021-06-20T14:39:32.934464Z",
     "iopub.status.busy": "2021-06-20T14:39:32.934075Z",
     "iopub.status.idle": "2021-06-20T14:39:32.944103Z",
     "shell.execute_reply": "2021-06-20T14:39:32.943084Z",
     "shell.execute_reply.started": "2021-06-20T14:39:32.934434Z"
    }
   },
   "outputs": [],
   "source": [
    "len(set(items_test_list).difference(items_train_list))"
   ]
  },
  {
   "cell_type": "code",
   "execution_count": null,
   "metadata": {
    "execution": {
     "iopub.execute_input": "2021-06-20T14:39:34.950279Z",
     "iopub.status.busy": "2021-06-20T14:39:34.949914Z",
     "iopub.status.idle": "2021-06-20T14:39:34.965033Z",
     "shell.execute_reply": "2021-06-20T14:39:34.964002Z",
     "shell.execute_reply.started": "2021-06-20T14:39:34.950244Z"
    }
   },
   "outputs": [],
   "source": [
    "categories_in_test = items.loc[items['item_id'].isin(sorted(test['item_id'].unique()))].item_category_id.unique()"
   ]
  },
  {
   "cell_type": "code",
   "execution_count": null,
   "metadata": {
    "execution": {
     "iopub.execute_input": "2021-06-20T14:39:35.964067Z",
     "iopub.status.busy": "2021-06-20T14:39:35.963708Z",
     "iopub.status.idle": "2021-06-20T14:39:35.991675Z",
     "shell.execute_reply": "2021-06-20T14:39:35.990589Z",
     "shell.execute_reply.started": "2021-06-20T14:39:35.964024Z"
    }
   },
   "outputs": [],
   "source": [
    "categories.loc[~categories['item_category_id'].isin(categories_in_test)].T"
   ]
  },
  {
   "cell_type": "code",
   "execution_count": null,
   "metadata": {
    "execution": {
     "iopub.execute_input": "2021-06-20T14:40:06.813214Z",
     "iopub.status.busy": "2021-06-20T14:40:06.812829Z",
     "iopub.status.idle": "2021-06-20T14:40:06.824762Z",
     "shell.execute_reply": "2021-06-20T14:40:06.823673Z",
     "shell.execute_reply.started": "2021-06-20T14:40:06.813183Z"
    }
   },
   "outputs": [],
   "source": [
    "le = preprocessing.LabelEncoder()\n",
    "main_categories = categories['item_category_name'].str.split('-')\n",
    "categories['main_category_id'] = main_categories.map(lambda row: row[0].strip())\n",
    "categories['main_category_id'] = le.fit_transform(categories['main_category_id'])\n",
    "categories['sub_category_id'] = main_categories.map(lambda row: row[1].strip() if len(row) > 1 else row[0].strip())\n",
    "categories['sub_category_id'] = le.fit_transform(categories['sub_category_id'])"
   ]
  },
  {
   "cell_type": "code",
   "execution_count": null,
   "metadata": {
    "execution": {
     "iopub.execute_input": "2021-06-20T14:40:10.741181Z",
     "iopub.status.busy": "2021-06-20T14:40:10.740825Z",
     "iopub.status.idle": "2021-06-20T14:40:10.751906Z",
     "shell.execute_reply": "2021-06-20T14:40:10.750923Z",
     "shell.execute_reply.started": "2021-06-20T14:40:10.741151Z"
    }
   },
   "outputs": [],
   "source": [
    "categories.head()"
   ]
  },
  {
   "cell_type": "code",
   "execution_count": null,
   "metadata": {
    "execution": {
     "iopub.execute_input": "2021-06-20T14:40:23.236699Z",
     "iopub.status.busy": "2021-06-20T14:40:23.236355Z",
     "iopub.status.idle": "2021-06-20T14:40:23.244706Z",
     "shell.execute_reply": "2021-06-20T14:40:23.243366Z",
     "shell.execute_reply.started": "2021-06-20T14:40:23.236669Z"
    }
   },
   "outputs": [],
   "source": [
    "from itertools import product"
   ]
  },
  {
   "cell_type": "markdown",
   "metadata": {},
   "source": [
    "Testing generation of cartesian product for the month of February in 2013"
   ]
  },
  {
   "cell_type": "code",
   "execution_count": null,
   "metadata": {
    "execution": {
     "iopub.execute_input": "2021-06-20T14:48:28.394337Z",
     "iopub.status.busy": "2021-06-20T14:48:28.393955Z",
     "iopub.status.idle": "2021-06-20T14:48:28.411648Z",
     "shell.execute_reply": "2021-06-20T14:48:28.410373Z",
     "shell.execute_reply.started": "2021-06-20T14:48:28.394307Z"
    }
   },
   "outputs": [],
   "source": [
    "shops_in_jan = train.loc[train['date_block_num'] == 0,'shop_id'].unique()\n",
    "items_in_jan = train.loc[train['date_block_num']==0, 'item_id'].unique()"
   ]
  },
  {
   "cell_type": "code",
   "execution_count": null,
   "metadata": {
    "execution": {
     "iopub.execute_input": "2021-06-20T14:48:29.448002Z",
     "iopub.status.busy": "2021-06-20T14:48:29.44764Z",
     "iopub.status.idle": "2021-06-20T14:48:29.5106Z",
     "shell.execute_reply": "2021-06-20T14:48:29.509204Z",
     "shell.execute_reply.started": "2021-06-20T14:48:29.447971Z"
    }
   },
   "outputs": [],
   "source": [
    "jan = list(product(*[shops_in_jan, items_in_jan,[0]]))"
   ]
  },
  {
   "cell_type": "code",
   "execution_count": null,
   "metadata": {
    "execution": {
     "iopub.execute_input": "2021-06-20T14:48:29.986262Z",
     "iopub.status.busy": "2021-06-20T14:48:29.985899Z",
     "iopub.status.idle": "2021-06-20T14:48:30.059576Z",
     "shell.execute_reply": "2021-06-20T14:48:30.058365Z",
     "shell.execute_reply.started": "2021-06-20T14:48:29.986232Z"
    }
   },
   "outputs": [],
   "source": [
    "shops_in_feb = train.loc[train['date_block_num']==1, 'shop_id'].unique()\n",
    "items_in_feb = train.loc[train['date_block_num']==1, 'item_id'].unique()\n",
    "feb = list(product(*[shops_in_feb, items_in_feb, [1]]))"
   ]
  },
  {
   "cell_type": "code",
   "execution_count": null,
   "metadata": {
    "execution": {
     "iopub.execute_input": "2021-06-20T14:48:30.239833Z",
     "iopub.status.busy": "2021-06-20T14:48:30.239487Z",
     "iopub.status.idle": "2021-06-20T14:48:31.520437Z",
     "shell.execute_reply": "2021-06-20T14:48:31.519168Z",
     "shell.execute_reply.started": "2021-06-20T14:48:30.239804Z"
    }
   },
   "outputs": [],
   "source": [
    "cartesian_test = []\n",
    "cartesian_test.append(np.array(jan))\n",
    "cartesian_test.append(np.array(feb))"
   ]
  },
  {
   "cell_type": "code",
   "execution_count": null,
   "metadata": {
    "execution": {
     "iopub.execute_input": "2021-06-20T14:48:31.523139Z",
     "iopub.status.busy": "2021-06-20T14:48:31.522799Z",
     "iopub.status.idle": "2021-06-20T14:48:31.536646Z",
     "shell.execute_reply": "2021-06-20T14:48:31.535458Z",
     "shell.execute_reply.started": "2021-06-20T14:48:31.523107Z"
    }
   },
   "outputs": [],
   "source": [
    "cartesian_test"
   ]
  },
  {
   "cell_type": "code",
   "execution_count": null,
   "metadata": {
    "execution": {
     "iopub.execute_input": "2021-06-20T14:48:31.538864Z",
     "iopub.status.busy": "2021-06-20T14:48:31.538414Z",
     "iopub.status.idle": "2021-06-20T14:48:31.55626Z",
     "shell.execute_reply": "2021-06-20T14:48:31.554965Z",
     "shell.execute_reply.started": "2021-06-20T14:48:31.538821Z"
    }
   },
   "outputs": [],
   "source": [
    "cartesian_test = np.vstack(cartesian_test)\n",
    "cartesian_test"
   ]
  },
  {
   "cell_type": "code",
   "execution_count": null,
   "metadata": {
    "execution": {
     "iopub.execute_input": "2021-06-20T14:48:31.558077Z",
     "iopub.status.busy": "2021-06-20T14:48:31.557638Z",
     "iopub.status.idle": "2021-06-20T14:48:31.567545Z",
     "shell.execute_reply": "2021-06-20T14:48:31.566133Z",
     "shell.execute_reply.started": "2021-06-20T14:48:31.558028Z"
    }
   },
   "outputs": [],
   "source": [
    "cartesian_test_df = pd.DataFrame(cartesian_test, columns = ['shop_id', 'item_id', 'date_block_num'])"
   ]
  },
  {
   "cell_type": "code",
   "execution_count": null,
   "metadata": {
    "execution": {
     "iopub.execute_input": "2021-06-20T14:48:31.5706Z",
     "iopub.status.busy": "2021-06-20T14:48:31.570139Z",
     "iopub.status.idle": "2021-06-20T14:48:31.598432Z",
     "shell.execute_reply": "2021-06-20T14:48:31.59739Z",
     "shell.execute_reply.started": "2021-06-20T14:48:31.570556Z"
    }
   },
   "outputs": [],
   "source": [
    "months = train['date_block_num'].unique()"
   ]
  },
  {
   "cell_type": "code",
   "execution_count": null,
   "metadata": {
    "execution": {
     "iopub.execute_input": "2021-06-20T14:48:31.76639Z",
     "iopub.status.busy": "2021-06-20T14:48:31.76602Z",
     "iopub.status.idle": "2021-06-20T14:48:31.772766Z",
     "shell.execute_reply": "2021-06-20T14:48:31.771949Z",
     "shell.execute_reply.started": "2021-06-20T14:48:31.76636Z"
    }
   },
   "outputs": [],
   "source": [
    "from tqdm import tqdm_notebook\n",
    "\n",
    "def downcast_dtypes(df):\n",
    "    '''\n",
    "        Changes column types in the dataframe: \n",
    "                \n",
    "                `float64` type to `float32`\n",
    "                `int64`   type to `int32`\n",
    "    '''\n",
    "    \n",
    "    # Select columns to downcast\n",
    "    float_cols = [c for c in df if df[c].dtype == \"float64\"]\n",
    "    int_cols =   [c for c in df if df[c].dtype == \"int64\"]\n",
    "    \n",
    "    # Downcast\n",
    "    df[float_cols] = df[float_cols].astype(np.float16)\n",
    "    df[int_cols]   = df[int_cols].astype(np.int16)\n",
    "    \n",
    "    return df"
   ]
  },
  {
   "cell_type": "code",
   "execution_count": null,
   "metadata": {
    "execution": {
     "iopub.execute_input": "2021-06-20T14:48:31.980885Z",
     "iopub.status.busy": "2021-06-20T14:48:31.980543Z",
     "iopub.status.idle": "2021-06-20T14:48:32.002504Z",
     "shell.execute_reply": "2021-06-20T14:48:32.001521Z",
     "shell.execute_reply.started": "2021-06-20T14:48:31.980857Z"
    }
   },
   "outputs": [],
   "source": [
    "months = train['date_block_num'].unique()"
   ]
  },
  {
   "cell_type": "code",
   "execution_count": null,
   "metadata": {
    "execution": {
     "iopub.execute_input": "2021-06-20T14:48:32.164009Z",
     "iopub.status.busy": "2021-06-20T14:48:32.163667Z",
     "iopub.status.idle": "2021-06-20T14:48:54.630172Z",
     "shell.execute_reply": "2021-06-20T14:48:54.629202Z",
     "shell.execute_reply.started": "2021-06-20T14:48:32.163982Z"
    }
   },
   "outputs": [],
   "source": [
    "cartesian = []\n",
    "for month in months:\n",
    "    shops_in_month = train.loc[train['date_block_num']==month, 'shop_id'].unique()\n",
    "    items_in_month = train.loc[train['date_block_num']==month, 'item_id'].unique()\n",
    "    cartesian.append(np.array(list(product(*[shops_in_month, items_in_month, [month]])), dtype='int32'))"
   ]
  },
  {
   "cell_type": "code",
   "execution_count": null,
   "metadata": {
    "execution": {
     "iopub.execute_input": "2021-06-20T14:48:54.63312Z",
     "iopub.status.busy": "2021-06-20T14:48:54.632652Z",
     "iopub.status.idle": "2021-06-20T14:48:54.698462Z",
     "shell.execute_reply": "2021-06-20T14:48:54.697463Z",
     "shell.execute_reply.started": "2021-06-20T14:48:54.633072Z"
    }
   },
   "outputs": [],
   "source": [
    "cartesian_df = pd.DataFrame(np.vstack(cartesian), columns = ['shop_id', 'item_id', 'date_block_num'], dtype=np.int32)"
   ]
  },
  {
   "cell_type": "code",
   "execution_count": null,
   "metadata": {
    "execution": {
     "iopub.execute_input": "2021-06-20T14:48:54.700407Z",
     "iopub.status.busy": "2021-06-20T14:48:54.7Z",
     "iopub.status.idle": "2021-06-20T14:48:55.483602Z",
     "shell.execute_reply": "2021-06-20T14:48:55.482679Z",
     "shell.execute_reply.started": "2021-06-20T14:48:54.700367Z"
    }
   },
   "outputs": [],
   "source": [
    "x = train.groupby(['shop_id', 'item_id', 'date_block_num'])['item_cnt_day'].sum().rename('item_cnt_month').reset_index()\n",
    "x.head()"
   ]
  },
  {
   "cell_type": "code",
   "execution_count": null,
   "metadata": {
    "execution": {
     "iopub.execute_input": "2021-06-20T14:48:55.485077Z",
     "iopub.status.busy": "2021-06-20T14:48:55.484787Z",
     "iopub.status.idle": "2021-06-20T14:49:00.09851Z",
     "shell.execute_reply": "2021-06-20T14:49:00.097621Z",
     "shell.execute_reply.started": "2021-06-20T14:48:55.485035Z"
    }
   },
   "outputs": [],
   "source": [
    "new_train = pd.merge(cartesian_df, x, on=['shop_id', 'item_id', 'date_block_num'], how='left').fillna(0)"
   ]
  },
  {
   "cell_type": "code",
   "execution_count": null,
   "metadata": {
    "execution": {
     "iopub.execute_input": "2021-06-20T14:49:00.103639Z",
     "iopub.status.busy": "2021-06-20T14:49:00.1033Z",
     "iopub.status.idle": "2021-06-20T14:49:00.254016Z",
     "shell.execute_reply": "2021-06-20T14:49:00.253106Z",
     "shell.execute_reply.started": "2021-06-20T14:49:00.103604Z"
    }
   },
   "outputs": [],
   "source": [
    "new_train['item_cnt_month'] = np.clip(new_train['item_cnt_month'], 0, 20)"
   ]
  },
  {
   "cell_type": "code",
   "execution_count": null,
   "metadata": {
    "execution": {
     "iopub.execute_input": "2021-06-20T14:49:00.256373Z",
     "iopub.status.busy": "2021-06-20T14:49:00.255924Z",
     "iopub.status.idle": "2021-06-20T14:49:00.296772Z",
     "shell.execute_reply": "2021-06-20T14:49:00.295719Z",
     "shell.execute_reply.started": "2021-06-20T14:49:00.256328Z"
    }
   },
   "outputs": [],
   "source": [
    "del x\n",
    "del cartesian_df\n",
    "del cartesian\n",
    "del cartesian_test\n",
    "del cartesian_test_df\n",
    "del feb\n",
    "del jan\n",
    "del items_test_list\n",
    "del items_train_list\n",
    "#del train"
   ]
  },
  {
   "cell_type": "code",
   "execution_count": null,
   "metadata": {
    "execution": {
     "iopub.execute_input": "2021-06-20T14:49:00.298416Z",
     "iopub.status.busy": "2021-06-20T14:49:00.298122Z",
     "iopub.status.idle": "2021-06-20T14:49:04.759489Z",
     "shell.execute_reply": "2021-06-20T14:49:04.758316Z",
     "shell.execute_reply.started": "2021-06-20T14:49:00.298389Z"
    }
   },
   "outputs": [],
   "source": [
    "new_train.sort_values(['date_block_num','shop_id','item_id'], inplace = True)\n",
    "new_train.head()"
   ]
  },
  {
   "cell_type": "code",
   "execution_count": null,
   "metadata": {
    "execution": {
     "iopub.execute_input": "2021-06-20T14:49:04.761081Z",
     "iopub.status.busy": "2021-06-20T14:49:04.760782Z",
     "iopub.status.idle": "2021-06-20T14:49:04.766362Z",
     "shell.execute_reply": "2021-06-20T14:49:04.765187Z",
     "shell.execute_reply.started": "2021-06-20T14:49:04.761039Z"
    }
   },
   "outputs": [],
   "source": [
    "test.insert(loc=3, column='date_block_num', value=34)"
   ]
  },
  {
   "cell_type": "code",
   "execution_count": null,
   "metadata": {
    "execution": {
     "iopub.execute_input": "2021-06-19T20:07:31.549477Z",
     "iopub.status.busy": "2021-06-19T20:07:31.549035Z",
     "iopub.status.idle": "2021-06-19T20:07:31.558285Z",
     "shell.execute_reply": "2021-06-19T20:07:31.557366Z",
     "shell.execute_reply.started": "2021-06-19T20:07:31.5494Z"
    }
   },
   "outputs": [],
   "source": [
    "test['item_cnt_month'] = 0"
   ]
  },
  {
   "cell_type": "code",
   "execution_count": null,
   "metadata": {
    "execution": {
     "iopub.execute_input": "2021-06-20T14:49:04.767806Z",
     "iopub.status.busy": "2021-06-20T14:49:04.767519Z",
     "iopub.status.idle": "2021-06-20T14:49:04.934372Z",
     "shell.execute_reply": "2021-06-20T14:49:04.933254Z",
     "shell.execute_reply.started": "2021-06-20T14:49:04.76778Z"
    }
   },
   "outputs": [],
   "source": [
    "new_train = new_train.append(test.drop('ID', axis = 1))"
   ]
  },
  {
   "cell_type": "code",
   "execution_count": null,
   "metadata": {
    "execution": {
     "iopub.execute_input": "2021-06-20T14:49:04.936263Z",
     "iopub.status.busy": "2021-06-20T14:49:04.935872Z",
     "iopub.status.idle": "2021-06-20T14:49:06.104755Z",
     "shell.execute_reply": "2021-06-20T14:49:06.103676Z",
     "shell.execute_reply.started": "2021-06-20T14:49:04.936227Z"
    }
   },
   "outputs": [],
   "source": [
    "new_train = pd.merge(new_train, shops, on=['shop_id'], how='left')\n",
    "new_train.head()"
   ]
  },
  {
   "cell_type": "code",
   "execution_count": null,
   "metadata": {
    "execution": {
     "iopub.execute_input": "2021-06-20T14:49:06.106134Z",
     "iopub.status.busy": "2021-06-20T14:49:06.105829Z",
     "iopub.status.idle": "2021-06-20T14:49:07.853334Z",
     "shell.execute_reply": "2021-06-20T14:49:07.852217Z",
     "shell.execute_reply.started": "2021-06-20T14:49:06.10609Z"
    }
   },
   "outputs": [],
   "source": [
    "new_train = pd.merge(new_train, items.drop('item_name', axis = 1), on=['item_id'], how='left')\n",
    "new_train.head()"
   ]
  },
  {
   "cell_type": "code",
   "execution_count": null,
   "metadata": {
    "execution": {
     "iopub.execute_input": "2021-06-20T14:49:07.857049Z",
     "iopub.status.busy": "2021-06-20T14:49:07.856746Z",
     "iopub.status.idle": "2021-06-20T14:49:09.313994Z",
     "shell.execute_reply": "2021-06-20T14:49:09.312856Z",
     "shell.execute_reply.started": "2021-06-20T14:49:07.85702Z"
    }
   },
   "outputs": [],
   "source": [
    "new_train = pd.merge(new_train, categories.drop('item_category_name', axis = 1), on=['item_category_id'], how='left')\n",
    "new_train.head()"
   ]
  },
  {
   "cell_type": "markdown",
   "metadata": {},
   "source": [
    "#### Lag datasets"
   ]
  },
  {
   "cell_type": "markdown",
   "metadata": {},
   "source": [
    "Now, in this step we going to generate lag over each column"
   ]
  },
  {
   "cell_type": "code",
   "execution_count": null,
   "metadata": {
    "execution": {
     "iopub.execute_input": "2021-06-20T14:49:44.993975Z",
     "iopub.status.busy": "2021-06-20T14:49:44.993646Z",
     "iopub.status.idle": "2021-06-20T14:49:44.999822Z",
     "shell.execute_reply": "2021-06-20T14:49:44.998646Z",
     "shell.execute_reply.started": "2021-06-20T14:49:44.993947Z"
    }
   },
   "outputs": [],
   "source": [
    "def generate_lag(train, months, lag_column):\n",
    "    for month in months:\n",
    "        # Speed up by grabbing only the useful bits\n",
    "        train_shift = train[['date_block_num', 'shop_id', 'item_id', lag_column]].copy()\n",
    "        train_shift.columns = ['date_block_num', 'shop_id', 'item_id', lag_column+'_lag_'+ str(month)]\n",
    "        train_shift['date_block_num'] += month\n",
    "        train = pd.merge(train, train_shift, on=['date_block_num', 'shop_id', 'item_id'], how='left')\n",
    "    return train"
   ]
  },
  {
   "cell_type": "code",
   "execution_count": null,
   "metadata": {
    "execution": {
     "iopub.execute_input": "2021-06-20T14:49:45.971486Z",
     "iopub.status.busy": "2021-06-20T14:49:45.971127Z",
     "iopub.status.idle": "2021-06-20T14:49:45.976753Z",
     "shell.execute_reply": "2021-06-20T14:49:45.975884Z",
     "shell.execute_reply.started": "2021-06-20T14:49:45.971457Z"
    }
   },
   "outputs": [],
   "source": [
    "del items\n",
    "del categories\n",
    "del shops\n",
    "del test"
   ]
  },
  {
   "cell_type": "code",
   "execution_count": null,
   "metadata": {
    "execution": {
     "iopub.execute_input": "2021-06-20T14:49:49.724667Z",
     "iopub.status.busy": "2021-06-20T14:49:49.724286Z",
     "iopub.status.idle": "2021-06-20T14:49:51.564032Z",
     "shell.execute_reply": "2021-06-20T14:49:51.563048Z",
     "shell.execute_reply.started": "2021-06-20T14:49:49.724636Z"
    }
   },
   "outputs": [],
   "source": [
    "new_train = downcast_dtypes(new_train)"
   ]
  },
  {
   "cell_type": "code",
   "execution_count": null,
   "metadata": {
    "execution": {
     "iopub.execute_input": "2021-06-20T14:49:51.566518Z",
     "iopub.status.busy": "2021-06-20T14:49:51.566232Z",
     "iopub.status.idle": "2021-06-20T14:49:51.672369Z",
     "shell.execute_reply": "2021-06-20T14:49:51.671382Z",
     "shell.execute_reply.started": "2021-06-20T14:49:51.566491Z"
    }
   },
   "outputs": [],
   "source": [
    "import gc\n",
    "gc.collect()"
   ]
  },
  {
   "cell_type": "code",
   "execution_count": null,
   "metadata": {
    "execution": {
     "iopub.execute_input": "2021-06-20T14:49:51.674026Z",
     "iopub.status.busy": "2021-06-20T14:49:51.673718Z",
     "iopub.status.idle": "2021-06-20T14:50:46.368577Z",
     "shell.execute_reply": "2021-06-20T14:50:46.367397Z",
     "shell.execute_reply.started": "2021-06-20T14:49:51.673985Z"
    }
   },
   "outputs": [],
   "source": [
    "%%time\n",
    "new_train = generate_lag(new_train, [1,2,3,4,5,6,12], 'item_cnt_month')"
   ]
  },
  {
   "cell_type": "code",
   "execution_count": null,
   "metadata": {
    "execution": {
     "iopub.execute_input": "2021-06-20T14:50:46.37014Z",
     "iopub.status.busy": "2021-06-20T14:50:46.369818Z",
     "iopub.status.idle": "2021-06-20T14:51:32.381727Z",
     "shell.execute_reply": "2021-06-20T14:51:32.380622Z",
     "shell.execute_reply.started": "2021-06-20T14:50:46.37011Z"
    }
   },
   "outputs": [],
   "source": [
    "%%time\n",
    "group = new_train.groupby(['date_block_num', 'item_id'])['item_cnt_month'].mean().rename('item_month_mean').reset_index()\n",
    "new_train = pd.merge(new_train, group, on=['date_block_num', 'item_id'], how='left')\n",
    "new_train = generate_lag(new_train, [1,2,3,6,12], 'item_month_mean')\n",
    "new_train.drop(['item_month_mean'], axis=1, inplace=True)"
   ]
  },
  {
   "cell_type": "code",
   "execution_count": null,
   "metadata": {
    "execution": {
     "iopub.execute_input": "2021-06-20T14:51:32.384763Z",
     "iopub.status.busy": "2021-06-20T14:51:32.384409Z",
     "iopub.status.idle": "2021-06-20T14:52:21.843208Z",
     "shell.execute_reply": "2021-06-20T14:52:21.842223Z",
     "shell.execute_reply.started": "2021-06-20T14:51:32.384729Z"
    }
   },
   "outputs": [],
   "source": [
    "%%time\n",
    "group = new_train.groupby(['date_block_num', 'shop_id'])['item_cnt_month'].mean().rename('shop_month_mean').reset_index()\n",
    "new_train = pd.merge(new_train, group, on=['date_block_num', 'shop_id'], how='left')\n",
    "new_train = generate_lag(new_train, [1,2,3,6,12], 'shop_month_mean')\n",
    "new_train.drop(['shop_month_mean'], axis=1, inplace=True)"
   ]
  },
  {
   "cell_type": "code",
   "execution_count": null,
   "metadata": {
    "execution": {
     "iopub.execute_input": "2021-06-20T14:52:21.845805Z",
     "iopub.status.busy": "2021-06-20T14:52:21.845345Z",
     "iopub.status.idle": "2021-06-20T14:52:21.853311Z",
     "shell.execute_reply": "2021-06-20T14:52:21.852106Z",
     "shell.execute_reply.started": "2021-06-20T14:52:21.845762Z"
    }
   },
   "outputs": [],
   "source": [
    "new_train.columns"
   ]
  },
  {
   "cell_type": "code",
   "execution_count": null,
   "metadata": {
    "execution": {
     "iopub.execute_input": "2021-06-20T14:52:21.855379Z",
     "iopub.status.busy": "2021-06-20T14:52:21.854933Z",
     "iopub.status.idle": "2021-06-20T14:52:45.34683Z",
     "shell.execute_reply": "2021-06-20T14:52:45.345861Z",
     "shell.execute_reply.started": "2021-06-20T14:52:21.855339Z"
    }
   },
   "outputs": [],
   "source": [
    "%%time\n",
    "group = new_train.groupby(['date_block_num', 'shop_id', 'item_category_id'])['item_cnt_month'].mean().rename('shop_category_month_mean').reset_index()\n",
    "new_train = pd.merge(new_train, group, on=['date_block_num', 'shop_id', 'item_category_id'], how='left')\n",
    "new_train = generate_lag(new_train, [1, 2], 'shop_category_month_mean')\n",
    "new_train.drop(['shop_category_month_mean'], axis=1, inplace=True)"
   ]
  },
  {
   "cell_type": "code",
   "execution_count": null,
   "metadata": {
    "execution": {
     "iopub.execute_input": "2021-06-20T14:52:45.348284Z",
     "iopub.status.busy": "2021-06-20T14:52:45.347959Z",
     "iopub.status.idle": "2021-06-20T14:52:59.466861Z",
     "shell.execute_reply": "2021-06-20T14:52:59.465823Z",
     "shell.execute_reply.started": "2021-06-20T14:52:45.348255Z"
    }
   },
   "outputs": [],
   "source": [
    "%%time\n",
    "group = new_train.groupby(['date_block_num', 'main_category_id'])['item_cnt_month'].mean().rename('main_category_month_mean').reset_index()\n",
    "new_train = pd.merge(new_train, group, on=['date_block_num', 'main_category_id'], how='left')\n",
    "\n",
    "new_train = generate_lag(new_train, [1], 'main_category_month_mean')\n",
    "new_train.drop(['main_category_month_mean'], axis=1, inplace=True)\n",
    "\n"
   ]
  },
  {
   "cell_type": "code",
   "execution_count": null,
   "metadata": {
    "execution": {
     "iopub.execute_input": "2021-06-20T14:52:59.468344Z",
     "iopub.status.busy": "2021-06-20T14:52:59.467996Z",
     "iopub.status.idle": "2021-06-20T14:53:13.781013Z",
     "shell.execute_reply": "2021-06-20T14:53:13.779825Z",
     "shell.execute_reply.started": "2021-06-20T14:52:59.468314Z"
    }
   },
   "outputs": [],
   "source": [
    "%%time\n",
    "group = new_train.groupby(['date_block_num', 'sub_category_id'])['item_cnt_month'].mean().rename('sub_category_month_mean').reset_index()\n",
    "new_train = pd.merge(new_train, group, on=['date_block_num', 'sub_category_id'], how='left')\n",
    "\n",
    "new_train = generate_lag(new_train, [1], 'sub_category_month_mean')\n",
    "new_train.drop(['sub_category_month_mean'], axis=1, inplace=True)"
   ]
  },
  {
   "cell_type": "code",
   "execution_count": null,
   "metadata": {
    "execution": {
     "iopub.execute_input": "2021-06-20T14:54:02.988161Z",
     "iopub.status.busy": "2021-06-20T14:54:02.98777Z",
     "iopub.status.idle": "2021-06-20T14:54:03.011525Z",
     "shell.execute_reply": "2021-06-20T14:54:03.010494Z",
     "shell.execute_reply.started": "2021-06-20T14:54:02.988126Z"
    }
   },
   "outputs": [],
   "source": [
    "new_train.head()"
   ]
  },
  {
   "cell_type": "code",
   "execution_count": null,
   "metadata": {
    "execution": {
     "iopub.execute_input": "2021-06-20T14:54:12.916269Z",
     "iopub.status.busy": "2021-06-20T14:54:12.915688Z",
     "iopub.status.idle": "2021-06-20T14:54:12.966237Z",
     "shell.execute_reply": "2021-06-20T14:54:12.96519Z",
     "shell.execute_reply.started": "2021-06-20T14:54:12.916218Z"
    }
   },
   "outputs": [],
   "source": [
    "new_train['month'] = new_train['date_block_num'] % 12"
   ]
  },
  {
   "cell_type": "markdown",
   "metadata": {},
   "source": [
    "Add Holiday days to ddataset"
   ]
  },
  {
   "cell_type": "code",
   "execution_count": null,
   "metadata": {
    "execution": {
     "iopub.execute_input": "2021-06-20T14:54:42.875013Z",
     "iopub.status.busy": "2021-06-20T14:54:42.874508Z",
     "iopub.status.idle": "2021-06-20T14:54:42.879381Z",
     "shell.execute_reply": "2021-06-20T14:54:42.878662Z",
     "shell.execute_reply.started": "2021-06-20T14:54:42.874983Z"
    }
   },
   "outputs": [],
   "source": [
    "holiday_dict = {\n",
    "    0: 6,\n",
    "    1: 3,\n",
    "    2: 2,\n",
    "    3: 8,\n",
    "    4: 3,\n",
    "    5: 3,\n",
    "    6: 2,\n",
    "    7: 8,\n",
    "    8: 4,\n",
    "    9: 8,\n",
    "    10: 5,\n",
    "    11: 4,\n",
    "}"
   ]
  },
  {
   "cell_type": "code",
   "execution_count": null,
   "metadata": {
    "execution": {
     "iopub.execute_input": "2021-06-20T14:54:47.743366Z",
     "iopub.status.busy": "2021-06-20T14:54:47.742833Z",
     "iopub.status.idle": "2021-06-20T14:54:47.919672Z",
     "shell.execute_reply": "2021-06-20T14:54:47.918542Z",
     "shell.execute_reply.started": "2021-06-20T14:54:47.743334Z"
    }
   },
   "outputs": [],
   "source": [
    "new_train['holidays_in_month'] = new_train['month'].map(holiday_dict)"
   ]
  },
  {
   "cell_type": "code",
   "execution_count": null,
   "metadata": {
    "execution": {
     "iopub.execute_input": "2021-06-20T14:54:51.525471Z",
     "iopub.status.busy": "2021-06-20T14:54:51.52496Z",
     "iopub.status.idle": "2021-06-20T14:54:51.533805Z",
     "shell.execute_reply": "2021-06-20T14:54:51.532371Z",
     "shell.execute_reply.started": "2021-06-20T14:54:51.525423Z"
    }
   },
   "outputs": [],
   "source": [
    "moex = {\n",
    "    12: 659, 13: 640, 14: 1231,\n",
    "    15: 881, 16: 764, 17: 663,\n",
    "    18: 743, 19: 627, 20: 692,\n",
    "    21: 736, 22: 680, 23: 1092,\n",
    "    24: 657, 25: 863, 26: 720,\n",
    "    27: 819, 28: 574, 29: 568,\n",
    "    30: 633, 31: 658, 32: 611,\n",
    "    33: 770, 34: 723,\n",
    "}"
   ]
  },
  {
   "cell_type": "code",
   "execution_count": null,
   "metadata": {
    "execution": {
     "iopub.execute_input": "2021-06-20T14:54:51.775711Z",
     "iopub.status.busy": "2021-06-20T14:54:51.775142Z",
     "iopub.status.idle": "2021-06-20T14:54:51.957514Z",
     "shell.execute_reply": "2021-06-20T14:54:51.95658Z",
     "shell.execute_reply.started": "2021-06-20T14:54:51.775676Z"
    }
   },
   "outputs": [],
   "source": [
    "new_train['moex_value'] = new_train.date_block_num.map(moex)"
   ]
  },
  {
   "cell_type": "code",
   "execution_count": null,
   "metadata": {
    "execution": {
     "iopub.execute_input": "2021-06-20T14:54:57.434067Z",
     "iopub.status.busy": "2021-06-20T14:54:57.433481Z",
     "iopub.status.idle": "2021-06-20T14:54:58.063835Z",
     "shell.execute_reply": "2021-06-20T14:54:58.062964Z",
     "shell.execute_reply.started": "2021-06-20T14:54:57.43402Z"
    }
   },
   "outputs": [],
   "source": [
    "new_train = downcast_dtypes(new_train)\n"
   ]
  },
  {
   "cell_type": "code",
   "execution_count": null,
   "metadata": {
    "execution": {
     "iopub.execute_input": "2021-06-20T14:58:55.296486Z",
     "iopub.status.busy": "2021-06-20T14:58:55.295972Z",
     "iopub.status.idle": "2021-06-20T14:58:55.300045Z",
     "shell.execute_reply": "2021-06-20T14:58:55.29933Z",
     "shell.execute_reply.started": "2021-06-20T14:58:55.296455Z"
    }
   },
   "outputs": [],
   "source": [
    "import xgboost as xgb"
   ]
  },
  {
   "cell_type": "code",
   "execution_count": null,
   "metadata": {
    "execution": {
     "iopub.execute_input": "2021-06-20T14:58:55.625963Z",
     "iopub.status.busy": "2021-06-20T14:58:55.625449Z",
     "iopub.status.idle": "2021-06-20T14:58:56.463606Z",
     "shell.execute_reply": "2021-06-20T14:58:56.46266Z",
     "shell.execute_reply.started": "2021-06-20T14:58:55.62593Z"
    }
   },
   "outputs": [],
   "source": [
    "new_train = new_train[new_train.date_block_num > 11]"
   ]
  },
  {
   "cell_type": "code",
   "execution_count": null,
   "metadata": {
    "execution": {
     "iopub.execute_input": "2021-06-20T14:58:58.084275Z",
     "iopub.status.busy": "2021-06-20T14:58:58.083879Z",
     "iopub.status.idle": "2021-06-20T14:58:58.193544Z",
     "shell.execute_reply": "2021-06-20T14:58:58.192506Z",
     "shell.execute_reply.started": "2021-06-20T14:58:58.084241Z"
    }
   },
   "outputs": [],
   "source": [
    "import gc\n",
    "gc.collect()"
   ]
  },
  {
   "cell_type": "code",
   "execution_count": null,
   "metadata": {
    "execution": {
     "iopub.execute_input": "2021-06-20T14:58:58.543336Z",
     "iopub.status.busy": "2021-06-20T14:58:58.542979Z",
     "iopub.status.idle": "2021-06-20T14:59:00.136861Z",
     "shell.execute_reply": "2021-06-20T14:59:00.135594Z",
     "shell.execute_reply.started": "2021-06-20T14:58:58.543307Z"
    }
   },
   "outputs": [],
   "source": [
    "def fill_na(df):\n",
    "    for col in df.columns:\n",
    "        if ('_lag_' in col) & (df[col].isnull().any()):\n",
    "            df[col].fillna(0, inplace=True)         \n",
    "    return df\n",
    "\n",
    "new_train = fill_na(new_train)"
   ]
  },
  {
   "cell_type": "code",
   "execution_count": null,
   "metadata": {
    "execution": {
     "iopub.execute_input": "2021-06-20T14:59:00.913619Z",
     "iopub.status.busy": "2021-06-20T14:59:00.913254Z",
     "iopub.status.idle": "2021-06-20T14:59:00.922021Z",
     "shell.execute_reply": "2021-06-20T14:59:00.9209Z",
     "shell.execute_reply.started": "2021-06-20T14:59:00.913585Z"
    }
   },
   "outputs": [],
   "source": [
    "def xgtrain():\n",
    "    regressor = xgb.XGBRegressor(n_estimators = 5000,\n",
    "                                 learning_rate = 0.01,\n",
    "                                 max_depth = 10,\n",
    "                                 subsample = 0.5,\n",
    "                                 colsample_bytree = 0.5)\n",
    "    \n",
    "    regressor_ = regressor.fit(new_train[new_train.date_block_num < 33].drop(['item_cnt_month'], axis=1).values, \n",
    "                               new_train[new_train.date_block_num < 33]['item_cnt_month'].values, \n",
    "                               eval_metric = 'rmse', \n",
    "                               eval_set = [(new_train[new_train.date_block_num < 33].drop(['item_cnt_month'], axis=1).values, \n",
    "                                            new_train[new_train.date_block_num < 33]['item_cnt_month'].values), \n",
    "                                           (new_train[new_train.date_block_num == 33].drop(['item_cnt_month'], axis=1).values, \n",
    "                                            new_train[new_train.date_block_num == 33]['item_cnt_month'].values)\n",
    "                                          ], \n",
    "                               verbose=True,\n",
    "                               early_stopping_rounds = 50,\n",
    "                              )\n",
    "    return regressor_"
   ]
  },
  {
   "cell_type": "code",
   "execution_count": null,
   "metadata": {
    "execution": {
     "iopub.execute_input": "2021-06-20T14:59:03.518642Z",
     "iopub.status.busy": "2021-06-20T14:59:03.518289Z",
     "iopub.status.idle": "2021-06-20T16:07:58.641988Z",
     "shell.execute_reply": "2021-06-20T16:07:58.640227Z",
     "shell.execute_reply.started": "2021-06-20T14:59:03.518612Z"
    }
   },
   "outputs": [],
   "source": [
    "%%time\n",
    "regressor_ = xgtrain()"
   ]
  },
  {
   "cell_type": "code",
   "execution_count": null,
   "metadata": {
    "execution": {
     "iopub.execute_input": "2021-06-20T16:10:32.258946Z",
     "iopub.status.busy": "2021-06-20T16:10:32.258303Z",
     "iopub.status.idle": "2021-06-20T16:10:33.883752Z",
     "shell.execute_reply": "2021-06-20T16:10:33.882781Z",
     "shell.execute_reply.started": "2021-06-20T16:10:32.258871Z"
    }
   },
   "outputs": [],
   "source": [
    "predictions = regressor_.predict(new_train[new_train.date_block_num == 34].drop(['item_cnt_month'], axis = 1).values)"
   ]
  },
  {
   "cell_type": "code",
   "execution_count": null,
   "metadata": {
    "execution": {
     "iopub.execute_input": "2021-06-20T16:12:27.399015Z",
     "iopub.status.busy": "2021-06-20T16:12:27.398649Z",
     "iopub.status.idle": "2021-06-20T16:12:28.504903Z",
     "shell.execute_reply": "2021-06-20T16:12:28.503647Z",
     "shell.execute_reply.started": "2021-06-20T16:12:27.398984Z"
    }
   },
   "outputs": [],
   "source": [
    "regressor_.save_model(\"model.json\")"
   ]
  },
  {
   "cell_type": "code",
   "execution_count": null,
   "metadata": {
    "execution": {
     "iopub.execute_input": "2021-06-20T16:10:36.341989Z",
     "iopub.status.busy": "2021-06-20T16:10:36.341626Z",
     "iopub.status.idle": "2021-06-20T16:10:43.180999Z",
     "shell.execute_reply": "2021-06-20T16:10:43.180195Z",
     "shell.execute_reply.started": "2021-06-20T16:10:36.341961Z"
    }
   },
   "outputs": [],
   "source": [
    "from matplotlib import rcParams\n",
    "rcParams['figure.figsize'] = 11.7,8.27\n",
    "\n",
    "cols = new_train.drop('item_cnt_month', axis = 1).columns\n",
    "plt.barh(cols, regressor_.feature_importances_)\n",
    "plt.show()"
   ]
  },
  {
   "cell_type": "code",
   "execution_count": null,
   "metadata": {
    "execution": {
     "iopub.execute_input": "2021-06-19T21:20:17.708773Z",
     "iopub.status.busy": "2021-06-19T21:20:17.708051Z",
     "iopub.status.idle": "2021-06-19T21:20:17.71537Z",
     "shell.execute_reply": "2021-06-19T21:20:17.71434Z",
     "shell.execute_reply.started": "2021-06-19T21:20:17.708727Z"
    }
   },
   "outputs": [],
   "source": [
    "submission['item_cnt_month'] = predictions"
   ]
  },
  {
   "cell_type": "code",
   "execution_count": null,
   "metadata": {
    "execution": {
     "iopub.execute_input": "2021-06-19T21:20:57.718949Z",
     "iopub.status.busy": "2021-06-19T21:20:57.71856Z",
     "iopub.status.idle": "2021-06-19T21:20:58.36693Z",
     "shell.execute_reply": "2021-06-19T21:20:58.366046Z",
     "shell.execute_reply.started": "2021-06-19T21:20:57.718913Z"
    }
   },
   "outputs": [],
   "source": [
    "submission.to_csv('sales_faster_learn.csv', index=False)"
   ]
  },
  {
   "cell_type": "code",
   "execution_count": null,
   "metadata": {},
   "outputs": [],
   "source": [
    "sub_df.to_csv('Submission_3.csv',index=False)"
   ]
  }
 ],
 "metadata": {
  "kernelspec": {
   "display_name": "Python 3",
   "language": "python",
   "name": "python3"
  },
  "language_info": {
   "codemirror_mode": {
    "name": "ipython",
    "version": 3
   },
   "file_extension": ".py",
   "mimetype": "text/x-python",
   "name": "python",
   "nbconvert_exporter": "python",
   "pygments_lexer": "ipython3",
   "version": "3.9.1"
  }
 },
 "nbformat": 4,
 "nbformat_minor": 4
}
